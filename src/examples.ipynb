{
 "cells": [
  {
   "cell_type": "code",
   "execution_count": 1,
   "metadata": {},
   "outputs": [],
   "source": [
    "import random\n",
    "from typing import List\n",
    "from structures.linkedlists import LinkedList, DoublyLinkedList"
   ]
  },
  {
   "cell_type": "code",
   "execution_count": 2,
   "metadata": {},
   "outputs": [],
   "source": [
    "LIST_VALUES:List[int]  = [random.randrange(1,1000) for i in range(10)]\n",
    "\n",
    "my_list = LinkedList(head_value=999)\n",
    "for i in LIST_VALUES:\n",
    "    my_list.add_to_head(i)"
   ]
  },
  {
   "cell_type": "code",
   "execution_count": 3,
   "metadata": {},
   "outputs": [
    {
     "data": {
      "text/plain": [
       "\"[0](head): Value: '38', Next Node: '343'[1]: Value: '343', Next Node: '147'[2]: Value: '147', Next Node: '708'[3]: Value: '708', Next Node: '967'[4]: Value: '967', Next Node: '99'[5]: Value: '99', Next Node: '385'[6]: Value: '385', Next Node: '185'[7]: Value: '185', Next Node: '685'[8]: Value: '685', Next Node: '880'[9]: Value: '880', Next Node: '999'[10]: Value: '999', Next Node: None\""
      ]
     },
     "execution_count": 3,
     "metadata": {},
     "output_type": "execute_result"
    }
   ],
   "source": [
    "str(my_list)"
   ]
  },
  {
   "cell_type": "code",
   "execution_count": 4,
   "metadata": {},
   "outputs": [],
   "source": [
    "my_list = DoublyLinkedList(head_value=999)\n",
    "for i in LIST_VALUES:\n",
    "    my_list.add_to_head(i)"
   ]
  },
  {
   "cell_type": "code",
   "execution_count": 5,
   "metadata": {},
   "outputs": [
    {
     "data": {
      "text/plain": [
       "\"[0](head): Value: '38', Next Node: '343', Previous Node: None[1]: Value: '343', Next Node: '147', Previous Node: '38' [2]: Value: '147', Next Node: '708', Previous Node: '343' [3]: Value: '708', Next Node: '967', Previous Node: '147' [4]: Value: '967', Next Node: '99', Previous Node: '708' [5]: Value: '99', Next Node: '385', Previous Node: '967' [6]: Value: '385', Next Node: '185', Previous Node: '99' [7]: Value: '185', Next Node: '685', Previous Node: '385' [8]: Value: '685', Next Node: '880', Previous Node: '185' [9]: Value: '880', Next Node: '999', Previous Node: '685' [10](tail): Value: '999', Next Node: None, Previous Node: '880' \""
      ]
     },
     "execution_count": 5,
     "metadata": {},
     "output_type": "execute_result"
    }
   ],
   "source": [
    "str(my_list)"
   ]
  },
  {
   "cell_type": "code",
   "execution_count": 6,
   "metadata": {},
   "outputs": [
    {
     "name": "stdout",
     "output_type": "stream",
     "text": [
      "Value: '38', Next Node: '343', Previous Node: None\n",
      "Value: '343', Next Node: '147', Previous Node: '38' \n",
      "Value: '147', Next Node: '708', Previous Node: '343' \n",
      "Value: '708', Next Node: '967', Previous Node: '147' \n",
      "Value: '967', Next Node: '99', Previous Node: '708' \n",
      "Value: '99', Next Node: '385', Previous Node: '967' \n",
      "Value: '385', Next Node: '185', Previous Node: '99' \n",
      "Value: '185', Next Node: '685', Previous Node: '385' \n",
      "Value: '685', Next Node: '880', Previous Node: '185' \n",
      "Value: '880', Next Node: '999', Previous Node: '685' \n",
      "Value: '999', Next Node: None, Previous Node: '880' \n"
     ]
    }
   ],
   "source": [
    "for i in my_list:\n",
    "    print(str(i))"
   ]
  },
  {
   "cell_type": "code",
   "execution_count": 7,
   "metadata": {},
   "outputs": [
    {
     "ename": "IndexError",
     "evalue": "Index of 100 is out of range for DoublyLinkedList of length 11",
     "output_type": "error",
     "traceback": [
      "\u001b[0;31m---------------------------------------------------------------------------\u001b[0m",
      "\u001b[0;31mIndexError\u001b[0m                                Traceback (most recent call last)",
      "\u001b[0;32m/tmp/ipykernel_8854/3761048350.py\u001b[0m in \u001b[0;36m<module>\u001b[0;34m\u001b[0m\n\u001b[0;32m----> 1\u001b[0;31m \u001b[0mstr\u001b[0m\u001b[0;34m(\u001b[0m\u001b[0mmy_list\u001b[0m\u001b[0;34m[\u001b[0m\u001b[0;36m100\u001b[0m\u001b[0;34m]\u001b[0m\u001b[0;34m)\u001b[0m\u001b[0;34m\u001b[0m\u001b[0;34m\u001b[0m\u001b[0m\n\u001b[0m",
      "\u001b[0;32m/workspaces/algos-and-ds/src/structures/linkedlists.py\u001b[0m in \u001b[0;36m__getitem__\u001b[0;34m(self, index)\u001b[0m\n\u001b[1;32m    136\u001b[0m             \u001b[0mindex\u001b[0m \u001b[0;34m+=\u001b[0m \u001b[0mlen\u001b[0m\u001b[0;34m(\u001b[0m\u001b[0mself\u001b[0m\u001b[0;34m)\u001b[0m\u001b[0;34m\u001b[0m\u001b[0;34m\u001b[0m\u001b[0m\n\u001b[1;32m    137\u001b[0m         \u001b[0;32mif\u001b[0m \u001b[0mindex\u001b[0m \u001b[0;34m>=\u001b[0m \u001b[0mlen\u001b[0m\u001b[0;34m(\u001b[0m\u001b[0mself\u001b[0m\u001b[0;34m)\u001b[0m\u001b[0;34m:\u001b[0m\u001b[0;34m\u001b[0m\u001b[0;34m\u001b[0m\u001b[0m\n\u001b[0;32m--> 138\u001b[0;31m             raise IndexError(f\"Index of {index} is out of \"\n\u001b[0m\u001b[1;32m    139\u001b[0m                              f\"range for {self.__class__.__name__} of length {len(self)}\")\n\u001b[1;32m    140\u001b[0m \u001b[0;34m\u001b[0m\u001b[0m\n",
      "\u001b[0;31mIndexError\u001b[0m: Index of 100 is out of range for DoublyLinkedList of length 11"
     ]
    }
   ],
   "source": [
    "str(my_list[100])"
   ]
  }
 ],
 "metadata": {
  "interpreter": {
   "hash": "3ad933181bd8a04b432d3370b9dc3b0662ad032c4dfaa4e4f1596c548f763858"
  },
  "kernelspec": {
   "display_name": "Python 3.8.6 64-bit",
   "language": "python",
   "name": "python3"
  },
  "language_info": {
   "codemirror_mode": {
    "name": "ipython",
    "version": 3
   },
   "file_extension": ".py",
   "mimetype": "text/x-python",
   "name": "python",
   "nbconvert_exporter": "python",
   "pygments_lexer": "ipython3",
   "version": "3.8.6"
  },
  "orig_nbformat": 4
 },
 "nbformat": 4,
 "nbformat_minor": 2
}
