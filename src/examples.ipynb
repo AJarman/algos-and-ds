{
 "cells": [
  {
   "cell_type": "code",
   "execution_count": 1,
   "metadata": {},
   "outputs": [],
   "source": [
    "import random\n",
    "from typing import List\n",
    "from structures.linkedlists import LinkedList, DoublyLinkedList"
   ]
  },
  {
   "cell_type": "code",
   "execution_count": 2,
   "metadata": {},
   "outputs": [],
   "source": [
    "LIST_VALUES:List[int]  = [random.randrange(1,1000) for i in range(10)]\n",
    "\n",
    "my_list = LinkedList(head_value=999)\n",
    "for i in LIST_VALUES:\n",
    "    my_list.add_to_head(i)"
   ]
  },
  {
   "cell_type": "code",
   "execution_count": 3,
   "metadata": {},
   "outputs": [
    {
     "data": {
      "text/plain": [
       "\"[0](head): Value: '808', Next Node: '828'[1]: Value: '828', Next Node: '244'[2]: Value: '244', Next Node: '948'[3]: Value: '948', Next Node: '40'[4]: Value: '40', Next Node: '969'[5]: Value: '969', Next Node: '419'[6]: Value: '419', Next Node: '193'[7]: Value: '193', Next Node: '665'[8]: Value: '665', Next Node: '292'[9]: Value: '292', Next Node: '999'[10]: Value: '999', Next Node: None\""
      ]
     },
     "execution_count": 3,
     "metadata": {},
     "output_type": "execute_result"
    }
   ],
   "source": [
    "str(my_list)"
   ]
  },
  {
   "cell_type": "code",
   "execution_count": 4,
   "metadata": {},
   "outputs": [],
   "source": [
    "my_list = DoublyLinkedList(head_value=999)\n",
    "for i in LIST_VALUES:\n",
    "    my_list.add_to_head(i)"
   ]
  },
  {
   "cell_type": "code",
   "execution_count": 5,
   "metadata": {},
   "outputs": [
    {
     "data": {
      "text/plain": [
       "\"[0](head): Value: '808', Next Node: '828', Previous Node: None[1]: Value: '828', Next Node: '244', Previous Node: '808' [2]: Value: '244', Next Node: '948', Previous Node: '828' [3]: Value: '948', Next Node: '40', Previous Node: '244' [4]: Value: '40', Next Node: '969', Previous Node: '948' [5]: Value: '969', Next Node: '419', Previous Node: '40' [6]: Value: '419', Next Node: '193', Previous Node: '969' [7]: Value: '193', Next Node: '665', Previous Node: '419' [8]: Value: '665', Next Node: '292', Previous Node: '193' [9]: Value: '292', Next Node: '999', Previous Node: '665' [10](tail): Value: '999', Next Node: None, Previous Node: '292' \""
      ]
     },
     "execution_count": 5,
     "metadata": {},
     "output_type": "execute_result"
    }
   ],
   "source": [
    "str(my_list)"
   ]
  },
  {
   "cell_type": "code",
   "execution_count": 6,
   "metadata": {},
   "outputs": [
    {
     "name": "stdout",
     "output_type": "stream",
     "text": [
      "Value: '808', Next Node: '828', Previous Node: None\n",
      "Value: '828', Next Node: '244', Previous Node: '808' \n",
      "Value: '244', Next Node: '948', Previous Node: '828' \n",
      "Value: '948', Next Node: '40', Previous Node: '244' \n",
      "Value: '40', Next Node: '969', Previous Node: '948' \n",
      "Value: '969', Next Node: '419', Previous Node: '40' \n",
      "Value: '419', Next Node: '193', Previous Node: '969' \n",
      "Value: '193', Next Node: '665', Previous Node: '419' \n",
      "Value: '665', Next Node: '292', Previous Node: '193' \n",
      "Value: '292', Next Node: '999', Previous Node: '665' \n",
      "Value: '999', Next Node: None, Previous Node: '292' \n"
     ]
    }
   ],
   "source": [
    "for i in my_list:\n",
    "    print(str(i))"
   ]
  },
  {
   "cell_type": "code",
   "execution_count": 7,
   "metadata": {},
   "outputs": [
    {
     "data": {
      "text/plain": [
       "<structures.nodes.DoubleLinkedNode at 0x7f1cfc406a30>"
      ]
     },
     "execution_count": 7,
     "metadata": {},
     "output_type": "execute_result"
    }
   ],
   "source": [
    "str(my_list[0])"
   ]
  }
 ],
 "metadata": {
  "interpreter": {
   "hash": "3ad933181bd8a04b432d3370b9dc3b0662ad032c4dfaa4e4f1596c548f763858"
  },
  "kernelspec": {
   "display_name": "Python 3.8.6 64-bit",
   "language": "python",
   "name": "python3"
  },
  "language_info": {
   "codemirror_mode": {
    "name": "ipython",
    "version": 3
   },
   "file_extension": ".py",
   "mimetype": "text/x-python",
   "name": "python",
   "nbconvert_exporter": "python",
   "pygments_lexer": "ipython3",
   "version": "3.8.6"
  },
  "orig_nbformat": 4
 },
 "nbformat": 4,
 "nbformat_minor": 2
}
