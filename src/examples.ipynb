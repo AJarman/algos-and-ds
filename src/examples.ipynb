{
 "cells": [
  {
   "cell_type": "code",
   "execution_count": 1,
   "metadata": {},
   "outputs": [],
   "source": [
    "import random\n",
    "from typing import List\n",
    "from structures.linkedlists import LinkedList, DoublyLinkedList"
   ]
  },
  {
   "cell_type": "code",
   "execution_count": 2,
   "metadata": {},
   "outputs": [],
   "source": [
    "LIST_VALUES:List[int]  = [random.randrange(1,1000) for i in range(10)]\n",
    "\n",
    "my_list = LinkedList(head_value=999)\n",
    "for i in LIST_VALUES:\n",
    "    my_list.add_to_head(i)"
   ]
  },
  {
   "cell_type": "code",
   "execution_count": 3,
   "metadata": {},
   "outputs": [
    {
     "data": {
      "text/plain": [
       "\"[0](head): Value: '126', Next Node: '72'[1]: Value: '72', Next Node: '813'[2]: Value: '813', Next Node: '592'[3]: Value: '592', Next Node: '406'[4]: Value: '406', Next Node: '54'[5]: Value: '54', Next Node: '241'[6]: Value: '241', Next Node: '285'[7]: Value: '285', Next Node: '133'[8]: Value: '133', Next Node: '808'[9]: Value: '808', Next Node: '999'[10]: Value: '999', Next Node: None\""
      ]
     },
     "execution_count": 3,
     "metadata": {},
     "output_type": "execute_result"
    }
   ],
   "source": [
    "str(my_list)"
   ]
  },
  {
   "cell_type": "code",
   "execution_count": 4,
   "metadata": {},
   "outputs": [
    {
     "ename": "NameError",
     "evalue": "name 'DoublyLinkedList' is not defined",
     "output_type": "error",
     "traceback": [
      "\u001b[0;31m---------------------------------------------------------------------------\u001b[0m",
      "\u001b[0;31mNameError\u001b[0m                                 Traceback (most recent call last)",
      "\u001b[0;32m/tmp/ipykernel_17748/1351955306.py\u001b[0m in \u001b[0;36m<module>\u001b[0;34m\u001b[0m\n\u001b[0;32m----> 1\u001b[0;31m \u001b[0mmy_list\u001b[0m \u001b[0;34m=\u001b[0m \u001b[0mDoublyLinkedList\u001b[0m\u001b[0;34m(\u001b[0m\u001b[0mhead_value\u001b[0m\u001b[0;34m=\u001b[0m\u001b[0;36m999\u001b[0m\u001b[0;34m)\u001b[0m\u001b[0;34m\u001b[0m\u001b[0;34m\u001b[0m\u001b[0m\n\u001b[0m\u001b[1;32m      2\u001b[0m \u001b[0;32mfor\u001b[0m \u001b[0mi\u001b[0m \u001b[0;32min\u001b[0m \u001b[0mLIST_VALUES\u001b[0m\u001b[0;34m:\u001b[0m\u001b[0;34m\u001b[0m\u001b[0;34m\u001b[0m\u001b[0m\n\u001b[1;32m      3\u001b[0m     \u001b[0mmy_list\u001b[0m\u001b[0;34m.\u001b[0m\u001b[0madd_to_head\u001b[0m\u001b[0;34m(\u001b[0m\u001b[0mi\u001b[0m\u001b[0;34m)\u001b[0m\u001b[0;34m\u001b[0m\u001b[0;34m\u001b[0m\u001b[0m\n",
      "\u001b[0;31mNameError\u001b[0m: name 'DoublyLinkedList' is not defined"
     ]
    }
   ],
   "source": [
    "my_list = DoublyLinkedList(head_value=999)\n",
    "for i in LIST_VALUES:\n",
    "    my_list.add_to_head(i)"
   ]
  }
 ],
 "metadata": {
  "interpreter": {
   "hash": "3ad933181bd8a04b432d3370b9dc3b0662ad032c4dfaa4e4f1596c548f763858"
  },
  "kernelspec": {
   "display_name": "Python 3.8.6 64-bit",
   "language": "python",
   "name": "python3"
  },
  "language_info": {
   "codemirror_mode": {
    "name": "ipython",
    "version": 3
   },
   "file_extension": ".py",
   "mimetype": "text/x-python",
   "name": "python",
   "nbconvert_exporter": "python",
   "pygments_lexer": "ipython3",
   "version": "3.8.6"
  },
  "orig_nbformat": 4
 },
 "nbformat": 4,
 "nbformat_minor": 2
}
